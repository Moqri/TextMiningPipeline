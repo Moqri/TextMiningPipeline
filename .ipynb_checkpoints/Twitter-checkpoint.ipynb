{
 "cells": [
  {
   "cell_type": "code",
   "execution_count": 232,
   "metadata": {
    "collapsed": false
   },
   "outputs": [],
   "source": [
    "%matplotlib inline\n",
    "import json\n",
    "import os.path\n",
    "import nltk\n",
    "from nltk.tag import pos_tag\n",
    "import pprint\n",
    "import pandas as pd\n",
    "import time"
   ]
  },
  {
   "cell_type": "code",
   "execution_count": 258,
   "metadata": {
    "collapsed": false
   },
   "outputs": [],
   "source": [
    "def tweettotable(input_tweets,input_table): #program does nothing as written\n",
    "    x=[]\n",
    "    with open(input_tweets) as f1:\n",
    "        for line in f1:\n",
    "            x.append(json.loads(line))\n",
    "    if not os.path.isfile(input_table):\n",
    "        f2 = open(input_table, 'w')\n",
    "        for t in range(len(x)):\n",
    "            f2.write('\\t'.join([x[t]['created_at'].encode(\"utf8\"), x[t]['text'].encode(\"utf8\").replace('\\n',''),'\\n']))    "
   ]
  },
  {
   "cell_type": "code",
   "execution_count": 259,
   "metadata": {
    "collapsed": false
   },
   "outputs": [],
   "source": [
    "tweettotable('data/tweets02.json','data/input_table.csv')"
   ]
  },
  {
   "cell_type": "code",
   "execution_count": 260,
   "metadata": {
    "collapsed": false
   },
   "outputs": [],
   "source": [
    "input_table='data/input_table.csv'"
   ]
  },
  {
   "cell_type": "code",
   "execution_count": 261,
   "metadata": {
    "collapsed": false,
    "scrolled": true
   },
   "outputs": [],
   "source": [
    "df=pd.read_csv(input_table,sep='\\t',header=None, names=['time','text','non'])\n",
    "df.drop('non',axis=1,inplace=True)\n",
    "stops=['http','RT','@']\n",
    "for stop in stops:\n",
    "    df.text=df.text.str.replace(stop,'')\n",
    "df['text']=df.text.str.lower()    \n",
    "df['text_utf8']=df.text.apply(lambda x: x.decode('utf-8'))"
   ]
  },
  {
   "cell_type": "code",
   "execution_count": 262,
   "metadata": {
    "collapsed": false
   },
   "outputs": [],
   "source": [
    "l=df.text_utf8.tolist()\n",
    "text=' *** '.join(l)"
   ]
  },
  {
   "cell_type": "code",
   "execution_count": 265,
   "metadata": {
    "collapsed": false
   },
   "outputs": [],
   "source": [
    "ts = time.strftime('%Y-%m-%d %H:%M:%S', time.strptime(df['time'][1],'%a %b %d %H:%M:%S +0000 %Y'))"
   ]
  },
  {
   "cell_type": "code",
   "execution_count": 266,
   "metadata": {
    "collapsed": false
   },
   "outputs": [],
   "source": [
    "df['datetime']=df.time.apply(lambda x: time.strftime('%Y-%m-%d %H:%M:%S', \n",
    "                                                     time.strptime(x,'%a %b %d %H:%M:%S +0000 %Y')))"
   ]
  },
  {
   "cell_type": "code",
   "execution_count": 267,
   "metadata": {
    "collapsed": false
   },
   "outputs": [
    {
     "data": {
      "text/plain": [
       "<matplotlib.axes._subplots.AxesSubplot at 0x117ce27d0>"
      ]
     },
     "execution_count": 267,
     "metadata": {},
     "output_type": "execute_result"
    },
    {
     "data": {
      "image/png": "[encoded data removed]",
      "text/plain": [
       "<matplotlib.figure.Figure at 0x118d95950>"
      ]
     },
     "metadata": {},
     "output_type": "display_data"
    }
   ],
   "source": [
    "df.set_index(pd.DatetimeIndex(df.datetime),inplace=True)\n",
    "df['count']=1\n",
    "df.resample('H',sum).plot(figsize=(15,5))"
   ]
  },
  {
   "cell_type": "code",
   "execution_count": null,
   "metadata": {
    "collapsed": false
   },
   "outputs": [],
   "source": [
    "token_text= nltk.word_tokenize(text)\n",
    "tagged_sent = nltk.pos_tag(token_text)"
   ]
  },
  {
   "cell_type": "code",
   "execution_count": null,
   "metadata": {
    "collapsed": true
   },
   "outputs": [],
   "source": [
    "nouns= []\n",
    "for word, pos in tagged_sent:\n",
    "    if pos in ['NN',\"NNP\"]:\n",
    "        nouns.append(word)\n",
    "freq=nltk.FreqDist(nouns)"
   ]
  }
 ],
 "metadata": {
  "kernelspec": {
   "display_name": "Python 2",
   "language": "python",
   "name": "python2"
  },
  "language_info": {
   "codemirror_mode": {
    "name": "ipython",
    "version": 2
   },
   "file_extension": ".py",
   "mimetype": "text/x-python",
   "name": "python",
   "nbconvert_exporter": "python",
   "pygments_lexer": "ipython2",
   "version": "2.7.9"
  }
 },
 "nbformat": 4,
 "nbformat_minor": 0
}
