{
 "cells": [
  {
   "cell_type": "code",
   "execution_count": 24,
   "metadata": {
    "collapsed": false
   },
   "outputs": [],
   "source": [
    "%matplotlib inline\n",
    "import json\n",
    "import os.path\n",
    "import nltk\n",
    "from nltk.tag import pos_tag\n",
    "import pprint\n",
    "import pandas as pd\n",
    "import time\n",
    "from nltk.corpus import stopwords\n"
   ]
  },
  {
   "cell_type": "code",
   "execution_count": 211,
   "metadata": {
    "collapsed": false
   },
   "outputs": [],
   "source": [
    "# extract table from json\n",
    "def tweettotable(input_tweets,input_table): #program does nothing as written\n",
    "    x=[]\n",
    "    with open(input_tweets) as f1:\n",
    "        for line in f1:\n",
    "            x.append(json.loads(line))\n",
    "    if not os.path.isfile(input_table):\n",
    "        f2 = open(input_table, 'w')\n",
    "        for t in range(len(x)):\n",
    "            if not ('retweeted_status' in x[t].keys()):\n",
    "                ascii_text= ''.join([i if ord(i) < 128 else ' ' for i in x[t]['text']])\n",
    "                f2.write('\\t'.join([x[t]['created_at'], \n",
    "                                ascii_text.replace('\\n','').replace('\\r','').encode('ascii'),'\\n']))    \n",
    "    else:\n",
    "        print 'the table file ',input_table,' already exists'"
   ]
  },
  {
   "cell_type": "code",
   "execution_count": 212,
   "metadata": {
    "collapsed": false
   },
   "outputs": [],
   "source": [
    "tweettotable('data/tweets_large.json','data/input_table.csv')"
   ]
  },
  {
   "cell_type": "code",
   "execution_count": 213,
   "metadata": {
    "collapsed": false
   },
   "outputs": [],
   "source": [
    "input_table='data/input_table.csv'"
   ]
  },
  {
   "cell_type": "code",
   "execution_count": 301,
   "metadata": {
    "collapsed": false,
    "scrolled": true
   },
   "outputs": [],
   "source": [
    "df=pd.read_csv(input_table,sep='\\t',encoding='latin-1',header=None, names=['time','text','non'])\n",
    "df.drop('non',axis=1,inplace=True)"
   ]
  },
  {
   "cell_type": "code",
   "execution_count": 302,
   "metadata": {
    "collapsed": false
   },
   "outputs": [],
   "source": [
    "ts = time.strftime('%Y-%m-%d %H:%M:%S', time.strptime(df['time'][1],'%a %b %d %H:%M:%S +0000 %Y'))"
   ]
  },
  {
   "cell_type": "code",
   "execution_count": 303,
   "metadata": {
    "collapsed": false
   },
   "outputs": [],
   "source": [
    "df['datetime']=df.time.apply(lambda x: time.strftime('%Y-%m-%d %H:%M:%S', \n",
    "                                                     time.strptime(x,'%a %b %d %H:%M:%S +0000 %Y')))"
   ]
  },
  {
   "cell_type": "code",
   "execution_count": 304,
   "metadata": {
    "collapsed": false
   },
   "outputs": [
    {
     "data": {
      "text/plain": [
       "<matplotlib.axes._subplots.AxesSubplot at 0x1281ce690>"
      ]
     },
     "execution_count": 304,
     "metadata": {},
     "output_type": "execute_result"
    },
    {
     "data": {
      "image/png": "[encoded data removed]",
      "text/plain": [
       "<matplotlib.figure.Figure at 0x11f26e250>"
      ]
     },
     "metadata": {},
     "output_type": "display_data"
    }
   ],
   "source": [
    "df.set_index(pd.DatetimeIndex(df.datetime),inplace=True)\n",
    "df['count']=1\n",
    "df.resample('H',sum).plot(figsize=(15,5))"
   ]
  },
  {
   "cell_type": "code",
   "execution_count": 323,
   "metadata": {
    "collapsed": false
   },
   "outputs": [],
   "source": [
    "stops=['http','RT','@','#','!',':','.','-',',','//t','/but','one','\\'s','(',')','?',';','&']\n",
    "for stop in stops:\n",
    "    df.text=df.text.str.replace(stop,'')\n",
    "df['text']=df.text.str.lower()    \n",
    "df['text_utf8']=df.text.apply(lambda x: x.decode('utf-8'))\n",
    "l=df.text_utf8.tolist()\n",
    "text=' '.join(l)"
   ]
  },
  {
   "cell_type": "code",
   "execution_count": 324,
   "metadata": {
    "collapsed": false
   },
   "outputs": [],
   "source": [
    "token_text= nltk.word_tokenize(text)\n",
    "stop=stopwords.words('english')"
   ]
  },
  {
   "cell_type": "code",
   "execution_count": 325,
   "metadata": {
    "collapsed": false
   },
   "outputs": [],
   "source": [
    "x=0\n",
    "ll=[]\n",
    "for word in token_text: # iterate over word_list\n",
    "    if not (word in stop): \n",
    "        ll.append(word)    "
   ]
  },
  {
   "cell_type": "code",
   "execution_count": 326,
   "metadata": {
    "collapsed": false
   },
   "outputs": [],
   "source": [
    "freq=nltk.FreqDist(ll)"
   ]
  },
  {
   "cell_type": "code",
   "execution_count": 327,
   "metadata": {
    "collapsed": false
   },
   "outputs": [],
   "source": [
    "top=sorted(freq,key=freq.get,reverse=True)[:7]"
   ]
  },
  {
   "cell_type": "code",
   "execution_count": 328,
   "metadata": {
    "collapsed": false
   },
   "outputs": [],
   "source": [
    "for key in top:    \n",
    "    df[key]= df.text_utf8.apply(lambda x: key in x)\n",
    "df.drop(['.'],inplace=True)"
   ]
  },
  {
   "cell_type": "code",
   "execution_count": 329,
   "metadata": {
    "collapsed": false
   },
   "outputs": [
    {
     "data": {
      "text/plain": [
       "<matplotlib.axes._subplots.AxesSubplot at 0x122033490>"
      ]
     },
     "execution_count": 329,
     "metadata": {},
     "output_type": "execute_result"
    },
    {
     "data": {
      "image/png": "[encoded data removed]",
      "text/plain": [
       "<matplotlib.figure.Figure at 0x12c1b7bd0>"
      ]
     },
     "metadata": {},
     "output_type": "display_data"
    }
   ],
   "source": [
    "df[top].resample('H',sum).plot(figsize=(15,10))"
   ]
  },
  {
   "cell_type": "code",
   "execution_count": 330,
   "metadata": {
    "collapsed": false,
    "scrolled": true
   },
   "outputs": [
    {
     "data": {
      "text/html": [
       "<div style=\"max-height:1000px;max-width:1500px;overflow:auto;\">\n",
       "<table border=\"1\" class=\"dataframe\">\n",
       "  <thead>\n",
       "    <tr style=\"text-align: right;\">\n",
       "      <th></th>\n",
       "      <th>chicago</th>\n",
       "      <th>job</th>\n",
       "      <th>jobs</th>\n",
       "      <th>hiring</th>\n",
       "      <th>il</th>\n",
       "      <th>view</th>\n",
       "      <th>details</th>\n",
       "    </tr>\n",
       "  </thead>\n",
       "  <tbody>\n",
       "    <tr>\n",
       "      <th>2015-06-22 06:00:00</th>\n",
       "      <td>  434</td>\n",
       "      <td>  29</td>\n",
       "      <td>  27</td>\n",
       "      <td>   9</td>\n",
       "      <td>   56</td>\n",
       "      <td>   9</td>\n",
       "      <td>   2</td>\n",
       "    </tr>\n",
       "    <tr>\n",
       "      <th>2015-06-22 07:00:00</th>\n",
       "      <td> 1319</td>\n",
       "      <td> 113</td>\n",
       "      <td> 101</td>\n",
       "      <td>  38</td>\n",
       "      <td>  227</td>\n",
       "      <td>  26</td>\n",
       "      <td>  12</td>\n",
       "    </tr>\n",
       "    <tr>\n",
       "      <th>2015-06-22 08:00:00</th>\n",
       "      <td> 1115</td>\n",
       "      <td> 135</td>\n",
       "      <td> 117</td>\n",
       "      <td>  39</td>\n",
       "      <td>  401</td>\n",
       "      <td>  15</td>\n",
       "      <td>  10</td>\n",
       "    </tr>\n",
       "    <tr>\n",
       "      <th>2015-06-22 09:00:00</th>\n",
       "      <td> 1365</td>\n",
       "      <td> 138</td>\n",
       "      <td> 122</td>\n",
       "      <td>  30</td>\n",
       "      <td>  348</td>\n",
       "      <td>  19</td>\n",
       "      <td>  14</td>\n",
       "    </tr>\n",
       "    <tr>\n",
       "      <th>2015-06-22 10:00:00</th>\n",
       "      <td> 1159</td>\n",
       "      <td> 131</td>\n",
       "      <td> 123</td>\n",
       "      <td>  40</td>\n",
       "      <td>  239</td>\n",
       "      <td>  28</td>\n",
       "      <td>  11</td>\n",
       "    </tr>\n",
       "    <tr>\n",
       "      <th>2015-06-22 11:00:00</th>\n",
       "      <td> 1684</td>\n",
       "      <td> 183</td>\n",
       "      <td> 128</td>\n",
       "      <td>  50</td>\n",
       "      <td>  470</td>\n",
       "      <td>  24</td>\n",
       "      <td>  12</td>\n",
       "    </tr>\n",
       "    <tr>\n",
       "      <th>2015-06-22 12:00:00</th>\n",
       "      <td> 2491</td>\n",
       "      <td> 266</td>\n",
       "      <td> 186</td>\n",
       "      <td>  98</td>\n",
       "      <td>  619</td>\n",
       "      <td>  42</td>\n",
       "      <td>  31</td>\n",
       "    </tr>\n",
       "    <tr>\n",
       "      <th>2015-06-22 13:00:00</th>\n",
       "      <td> 2790</td>\n",
       "      <td> 440</td>\n",
       "      <td> 379</td>\n",
       "      <td> 238</td>\n",
       "      <td>  904</td>\n",
       "      <td> 202</td>\n",
       "      <td> 156</td>\n",
       "    </tr>\n",
       "    <tr>\n",
       "      <th>2015-06-22 14:00:00</th>\n",
       "      <td> 3127</td>\n",
       "      <td> 517</td>\n",
       "      <td> 466</td>\n",
       "      <td> 290</td>\n",
       "      <td>  901</td>\n",
       "      <td> 234</td>\n",
       "      <td> 193</td>\n",
       "    </tr>\n",
       "    <tr>\n",
       "      <th>2015-06-22 15:00:00</th>\n",
       "      <td> 3479</td>\n",
       "      <td> 523</td>\n",
       "      <td> 407</td>\n",
       "      <td> 292</td>\n",
       "      <td> 1017</td>\n",
       "      <td> 269</td>\n",
       "      <td> 223</td>\n",
       "    </tr>\n",
       "    <tr>\n",
       "      <th>2015-06-22 16:00:00</th>\n",
       "      <td> 3775</td>\n",
       "      <td> 552</td>\n",
       "      <td> 448</td>\n",
       "      <td> 282</td>\n",
       "      <td> 1141</td>\n",
       "      <td> 310</td>\n",
       "      <td> 249</td>\n",
       "    </tr>\n",
       "    <tr>\n",
       "      <th>2015-06-22 17:00:00</th>\n",
       "      <td> 3768</td>\n",
       "      <td> 580</td>\n",
       "      <td> 459</td>\n",
       "      <td> 311</td>\n",
       "      <td> 1139</td>\n",
       "      <td> 306</td>\n",
       "      <td> 263</td>\n",
       "    </tr>\n",
       "    <tr>\n",
       "      <th>2015-06-22 18:00:00</th>\n",
       "      <td> 3548</td>\n",
       "      <td> 506</td>\n",
       "      <td> 404</td>\n",
       "      <td> 297</td>\n",
       "      <td> 1060</td>\n",
       "      <td> 281</td>\n",
       "      <td> 240</td>\n",
       "    </tr>\n",
       "    <tr>\n",
       "      <th>2015-06-22 19:00:00</th>\n",
       "      <td> 3445</td>\n",
       "      <td> 535</td>\n",
       "      <td> 420</td>\n",
       "      <td> 292</td>\n",
       "      <td> 1100</td>\n",
       "      <td> 283</td>\n",
       "      <td> 235</td>\n",
       "    </tr>\n",
       "    <tr>\n",
       "      <th>2015-06-22 20:00:00</th>\n",
       "      <td> 4195</td>\n",
       "      <td> 474</td>\n",
       "      <td> 371</td>\n",
       "      <td> 280</td>\n",
       "      <td> 1613</td>\n",
       "      <td> 277</td>\n",
       "      <td> 231</td>\n",
       "    </tr>\n",
       "    <tr>\n",
       "      <th>2015-06-22 21:00:00</th>\n",
       "      <td>  700</td>\n",
       "      <td> 103</td>\n",
       "      <td>  62</td>\n",
       "      <td>  39</td>\n",
       "      <td>  201</td>\n",
       "      <td>  40</td>\n",
       "      <td>  31</td>\n",
       "    </tr>\n",
       "  </tbody>\n",
       "</table>\n",
       "</div>"
      ],
      "text/plain": [
       "                     chicago  job  jobs  hiring    il  view  details\n",
       "2015-06-22 06:00:00      434   29    27       9    56     9        2\n",
       "2015-06-22 07:00:00     1319  113   101      38   227    26       12\n",
       "2015-06-22 08:00:00     1115  135   117      39   401    15       10\n",
       "2015-06-22 09:00:00     1365  138   122      30   348    19       14\n",
       "2015-06-22 10:00:00     1159  131   123      40   239    28       11\n",
       "2015-06-22 11:00:00     1684  183   128      50   470    24       12\n",
       "2015-06-22 12:00:00     2491  266   186      98   619    42       31\n",
       "2015-06-22 13:00:00     2790  440   379     238   904   202      156\n",
       "2015-06-22 14:00:00     3127  517   466     290   901   234      193\n",
       "2015-06-22 15:00:00     3479  523   407     292  1017   269      223\n",
       "2015-06-22 16:00:00     3775  552   448     282  1141   310      249\n",
       "2015-06-22 17:00:00     3768  580   459     311  1139   306      263\n",
       "2015-06-22 18:00:00     3548  506   404     297  1060   281      240\n",
       "2015-06-22 19:00:00     3445  535   420     292  1100   283      235\n",
       "2015-06-22 20:00:00     4195  474   371     280  1613   277      231\n",
       "2015-06-22 21:00:00      700  103    62      39   201    40       31"
      ]
     },
     "execution_count": 330,
     "metadata": {},
     "output_type": "execute_result"
    }
   ],
   "source": [
    "df[top].resample('H',sum)"
   ]
  },
  {
   "cell_type": "code",
   "execution_count": null,
   "metadata": {
    "collapsed": true
   },
   "outputs": [],
   "source": []
  },
  {
   "cell_type": "code",
   "execution_count": null,
   "metadata": {
    "collapsed": true
   },
   "outputs": [],
   "source": []
  }
 ],
 "metadata": {
  "kernelspec": {
   "display_name": "Python 2",
   "language": "python",
   "name": "python2"
  },
  "language_info": {
   "codemirror_mode": {
    "name": "ipython",
    "version": 2
   },
   "file_extension": ".py",
   "mimetype": "text/x-python",
   "name": "python",
   "nbconvert_exporter": "python",
   "pygments_lexer": "ipython2",
   "version": "2.7.9"
  }
 },
 "nbformat": 4,
 "nbformat_minor": 0
}
